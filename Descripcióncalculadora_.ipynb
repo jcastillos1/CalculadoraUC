{
  "nbformat": 4,
  "nbformat_minor": 0,
  "metadata": {
    "colab": {
      "name": "Descripcióncalculadora .ipynb",
      "provenance": [],
      "collapsed_sections": [],
      "toc_visible": true
    },
    "kernelspec": {
      "name": "python3",
      "display_name": "Python 3"
    }
  },
  "cells": [
    {
      "cell_type": "markdown",
      "metadata": {
        "id": "8sYgJmmI0bQb",
        "colab_type": "text"
      },
      "source": [
        "# Calculadora UC\n",
        "## **Programación**\n",
        "\n",
        "### *Universidad Central*\n",
        "### *Profesor acargo:*\n",
        "Carlos Isaac Zainea\n",
        "### *Elaborado por:*\n",
        "\n",
        "* Juan Castillo (Interfaz gráfica, Cálculo Vectorial)\n",
        "* Carlos Carvajales (Cálculo diferencial)\n",
        "* Laura Contreras (Pre-Álgebra, gráficas)\n",
        "* María García (Cálculo Integral) \n",
        "* Jessica Lizzeth Santos (Álgebra lineal)\n",
        "\n",
        "## **Descripción del proyecto**\n",
        "Durante aproximadamente tres semanas y media estuvimos trabajando en la elaboración de una calculadora en Python a través de modos interactivos como los Widgets para hacerla práctica y entendible para el uso de las personas en genera.Nuestra calculadora cuenta con más de 30 funciones repartidas en cinco materias amplias en temas de operaciones elementales para el uso diario de cualquier persona o estudiante.\n",
        "\n",
        "Las materias que trabajamos en este proyecto fueron Pre-álgebra, Álgebra lineal, cálculo diferencial, cálculo integral y cálculo vectorial. A demás de haber trabajado estos temas en la parte de las cuentas también realizamos las gráficas de varios temas para que se pueda tener una idea gráfica del problema o la solución dependiendo del caso, por ejemplo para las derivada en cálculo diferencial o las derivadas parciales en cálculo vectorial, donde manejamos gráficas en 2D y 3D como se muestra a continuación, donde hay un ejemplo de como es la gráfica del $sen(x)$ en estas dos dimensiones.\n",
        " \n"
      ]
    },
    {
      "cell_type": "markdown",
      "metadata": {
        "id": "FbyziSMp3Ngf",
        "colab_type": "text"
      },
      "source": [
        "# **Pre-Álgebra**\n",
        "\n",
        "En Pre-Álgebra manejamos los temas básicos para cualquier calculadora, y los repartimos en tres partes que son operaciones básicas, factores y números primos, y logaritmos, radicales y exponenciales.De esta forma podemos usar este modulo de la calculadora para hacer cálculos que vayan desde sumas o restas hasta calcular logaritmos naturales o el máximo común divisor entre dos números.\n",
        "### **Nota:**\n",
        "* Las funciones trigonométricas nuestra calculadora las lee tanto en radianes como en grados. \n",
        "* Al momento de hallar los logaritmos tomamos la función como la potencia y el  numero $n$ que nos pide seria la base del logaritmo.\n",
        "* Para hallar los logaritmos naturales omitiremos la casilla de $n$ pues sabemos que los logaritmos naturales son en base $e$.\n",
        "    \n",
        "* Al momento de buscar si un numero es primo o no, no es necesario usar el cuadro de texto, ya que para saber si nuestro valor inicial es un numero primo o no, no se necesita un segundo valor.\n",
        "* Para realizar una multiplicacion es necesario escribir el signo de la multiplicacion $*$, pues omitir este signo hara que la calculadora no lea la operacion y nos devuelva un error.\n",
        "* Para calcular un exponente debemos escribir $x**2$ en lugar de escribir $x$$^$$2$, ya que si lo escriben de esta segunda forma la calculadora no lo leera como el exponente por lo que en Python esta definido el exponente con los dos $**$.\n",
        "### **Funciones:**\n",
        "* Suma, resta, multiplica y divide.\n",
        "\n",
        "\n",
        "```\n",
        "2 + 3\n",
        "5\n",
        "\n",
        "3 - 2\n",
        "1\n",
        "\n",
        "3 * 2\n",
        "6\n",
        "\n",
        "4/2\n",
        "2.0\n",
        "```\n",
        "\n",
        "\n",
        "* Halla el Maximo Comun Divisor de dos numeros.\n",
        "* Determina  si un numero es primo o no.\n",
        "* Cálcula logaritmos y logaritmo naturales.\n",
        "\n",
        "\n",
        "```\n",
        "log(8, 2)\n",
        "3\n",
        "```\n",
        "\n",
        "\n",
        "* Cálcula radicales y exponenciales. \n",
        "\n",
        "\n",
        "```\n",
        "4**(1/2)\n",
        "2\n",
        "2**2\n",
        "4\n",
        "```\n",
        "\n"
      ]
    },
    {
      "cell_type": "markdown",
      "metadata": {
        "id": "zTaQl3wo4UdF",
        "colab_type": "text"
      },
      "source": [
        "# **Álgebra Lineal**\n",
        "En Álgebra Lineal trabajamos las operaciones básicas entre matrices y vectores como lo son la suma, resta y multiplicación, adicionalmente en las matrices se puede calcular las inversas y determinantes de una matriz; a parte de estos dos temas fundamentales del álgebra trabajamos sistemas de ecuaciones lineales.\n",
        "### **Nota:**\n",
        "* Cuando la matriz tenga determinante igual a $0$ sabemos que no se puede invertir.\n",
        "*Para armar las matrices se deben poner paréntesis cuadrados y las filas se separar con comas de esta forma $[(a,b),(c,d)]$ teniendo en cuenta que la matriz quedaría así\n",
        "    \\begin{align}\n",
        "    \\begin{bmatrix}\n",
        "    a & b\\\\ \n",
        "    c & d\n",
        "    \\end{bmatrix}\n",
        "    \\end{align}\n",
        "* En sistemas de ecuaciones solo se puede para matrices $2X2$.\n",
        "* En operaciones entre vectores los vectores tienen que estar solo en $\\mathbb{R}^2$.\n",
        "* En las operaciones entre matrices se pueden poner matrices de tamaño $nXn$.\n",
        "\n",
        "### **Funciones:**\n",
        "* Suma, resta y multiplicación de matrices. \n",
        "* Calcula la inversa y el determinante de matrice.\n",
        "* Soluciona sistemas de ecuaciones lineales por eliminación.\n",
        "* Suma, resta y multiplicación de vectores."
      ]
    },
    {
      "cell_type": "markdown",
      "metadata": {
        "id": "I6Db4uHp5YqU",
        "colab_type": "text"
      },
      "source": [
        "# **Cálculo Diferencial**\n",
        "\n",
        "En el cálculo diferencial hay muchos temas que pudimos abarcar, pero nosotros nos enfocamos en emplear los de mayor necesidad para el uso cotidiano de los estudiantes, como lo son las derivadas para poder hallas hasta la quinta derivada de una función, limites, las raíces de las funciones y los máximos y mínimos.\n",
        "### **Nota:**\n",
        "*  Se debe rellenar el cuadro de tendencia o aparecerá error en el tema de limites.\n",
        "\n",
        "### **Funciones:**\n",
        "* Cálcula las primeras cinco derivadas de una función.\n",
        "* Halla los limites, raíces, los maximos y minimos de una función.\n"
      ]
    },
    {
      "cell_type": "markdown",
      "metadata": {
        "id": "R4ufW8d-519w",
        "colab_type": "text"
      },
      "source": [
        "# **Cálculo Integral**\n",
        "\n",
        "Al momento de trabajar en cálculo integral decidimos abordar los temas de series,áreas bajo la curva, volúmenes bajo la curva y obviamente las integrales, tanto definida como indefinida\n",
        "\n",
        "$\\int f(x)dx \\wedge \\int_{b}^{a} f(x)dx$\n",
        "\n",
        "### **Nota:**\n",
        "* Para el volumen bajo una curva también se deben rellenar todos los espacios o cuadros que generen el programa para que no nos arroje un error.\n",
        "\n",
        "### **Funciones:**\n",
        "* Cálcula integrales definidas e indefinidas.\n",
        "* Cálcula series.\n",
        "* Halla elarea bajo una curva y entre dos curvas.\n",
        "* Halla el volumen bajo una curva y entre dos curvas.\n",
        " "
      ]
    },
    {
      "cell_type": "markdown",
      "metadata": {
        "id": "BmA49Uxc6esH",
        "colab_type": "text"
      },
      "source": [
        "# **Cálculo Vectorial**\n",
        "\n",
        "Para esta materia; abarcaremos temas tales como, Derivadas parciales con respecto a ,$x, y$ y $z$ integrales dobles y triples definidas e indefinidas. Pero no desarrollamos temas propuestos; tales como, Vector gradiente, Derivada direccional, Multiplicadores de Lagrange, Derivadas de orden superior, regiones, coordenadas polares, etc.\n",
        "### **Nota:**\n",
        "*  Para las integrales dobles y triples aplicamos el teorema de Fubini, con el cual podemos afirmar que no importa el orden en el que se integre obtendremos el mismo resultados.\n",
        "* Para las integrales dobles y triples se deben rellenar todos los espacios solicitados pues de no ser así obtendremos un error en lugar de una solución a nuestro problema.\n",
        "\n",
        "### **Funciones:**\n",
        "* Halla las derivadas parciales de una función con respecto a $x, y$ y $z$.\n",
        "* Cálcula integrales dobles definidas he indefinidas. \n",
        "* Cálcula integrales triples definidas he indefinidas. "
      ]
    }
  ]
}